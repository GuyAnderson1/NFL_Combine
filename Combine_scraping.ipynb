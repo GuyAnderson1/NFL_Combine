{
 "cells": [
  {
   "cell_type": "code",
   "execution_count": 1,
   "metadata": {},
   "outputs": [],
   "source": [
    "from bs4 import BeautifulSoup as bs\n",
    "import csv\n",
    "import requests as rq\n",
    "import pandas as pd\n",
    "import numpy as np\n",
    "import re\n",
    "import time"
   ]
  },
  {
   "cell_type": "code",
   "execution_count": 2,
   "metadata": {},
   "outputs": [],
   "source": [
    "def headers(soup): \n",
    "    table_headers = soup.find('thead')\n",
    "    table_headers = table_headers.find('tr').text\n",
    "    time.sleep(1)\n",
    "    table_headers = table_headers.strip()\n",
    "    table_headers = table_headers.split('\\n')\n",
    "    table_headers.insert(0,'Year')\n",
    "    table_headers = np.array(np.matrix(table_headers))\n",
    "    # print(table_headers)\n",
    "    return table_headers\n",
    "\n",
    "def table_data(soup,headers):\n",
    "    data = []\n",
    "    name_data = []\n",
    "    player_data = []\n",
    "\n",
    "    body = soup.find('body')\n",
    "    content_div = body.find('div',id = 'content')\n",
    "    title = content_div.find('h1').text.strip()\n",
    "    year = title.split()\n",
    "    draft_year = [year[0]]\n",
    "    \n",
    "    time.sleep(1)\n",
    "    table_data = soup.find('tbody')\n",
    "    table_rows = table_data.find_all('tr')\n",
    "    table_names = table_data.find_all('th')\n",
    "    for names in table_names:\n",
    "        name = names.text.strip()\n",
    "        if name not in headers:\n",
    "            name_data.append(name)\n",
    "        player_names = np.array(name_data)\n",
    "    attendees = len(name_data)\n",
    "\n",
    "    draft_year = draft_year * attendees\n",
    "\n",
    "    # takes all the table rows that have actual people data.\n",
    "    table_rows = table_data.find_all('tr', class_= lambda x : x != 'thead')\n",
    "    for row in table_rows:\n",
    "        info = row.find_all('td')\n",
    "        info = [element.text.strip() for element in info]\n",
    "        # removes all the html waffle and allows you to .text() using the for loop for each element in info\n",
    "        data.append([element for element in info])\n",
    "        player_measureables = np.array(data)\n",
    "    player_data = np.column_stack((draft_year, player_names,player_measureables))\n",
    "\n",
    "    return player_data\n",
    "\n",
    "url = 'https://www.pro-football-reference.com/draft/2023-combine.htm'\n",
    "combine = bs(rq.get(url).content,'html.parser')\n",
    "table_headers = headers(combine)\n",
    "player_data = table_data(combine,table_headers)\n",
    "\n",
    "# print(table_headers)\n",
    "# print(player_data[15])\n"
   ]
  },
  {
   "cell_type": "code",
   "execution_count": 3,
   "metadata": {},
   "outputs": [
    {
     "name": "stdout",
     "output_type": "stream",
     "text": [
      "319\n",
      "[['Year' 'Player' 'Pos' 'School' 'College' 'Ht' 'Wt' '40yd' 'Vertical'\n",
      "  'Bench' 'Broad Jump' '3Cone' 'Shuttle' 'Drafted (tm/rnd/yr)']]\n",
      "['2023' 'Habakkuk Baldonado' 'EDGE' 'Pittsburgh' 'College Stats' '6-4'\n",
      " '251' '4.78' '35.0' '21' '120' '7.11' '4.44' '']\n"
     ]
    }
   ],
   "source": [
    "# Headers remain the same throughout the years of data.\n",
    "\n",
    "\n",
    "url = 'https://www.pro-football-reference.com/draft/2023-combine.htm'\n",
    "combine = bs(rq.get(url).content,'html.parser')\n",
    "table_headers = headers(combine)\n",
    "\n",
    "\n",
    "player_data = table_data(combine,table_headers)\n",
    "\n",
    "\n",
    "print(len(player_data))\n",
    "print(table_headers)\n",
    "print(player_data[15])\n",
    "\n",
    "# with open('2023_combine_data.csv','w') as f:\n",
    "#     writer = csv.writer(f)\n",
    "#     writer.writerows(combine_data)"
   ]
  },
  {
   "cell_type": "code",
   "execution_count": 14,
   "metadata": {},
   "outputs": [
    {
     "name": "stdout",
     "output_type": "stream",
     "text": [
      "This years draft has 321 prospects.\n",
      "Totalling to (321, 14) so far.\n",
      "This years draft has 321 prospects.\n",
      "Totalling to (642, 14) so far.\n",
      "This years draft has 320 prospects.\n",
      "Totalling to (962, 14) so far.\n",
      "This years draft has 319 prospects.\n",
      "Totalling to (1281, 14) so far.\n",
      "This years draft has 335 prospects.\n",
      "Totalling to (1616, 14) so far.\n",
      "This years draft has 331 prospects.\n",
      "Totalling to (1947, 14) so far.\n",
      "This years draft has 328 prospects.\n",
      "Totalling to (2275, 14) so far.\n",
      "This years draft has 326 prospects.\n",
      "Totalling to (2601, 14) so far.\n",
      "This years draft has 330 prospects.\n",
      "Totalling to (2931, 14) so far.\n",
      "This years draft has 327 prospects.\n",
      "Totalling to (3258, 14) so far.\n",
      "This years draft has 326 prospects.\n",
      "Totalling to (3584, 14) so far.\n",
      "This years draft has 329 prospects.\n",
      "Totalling to (3913, 14) so far.\n",
      "This years draft has 324 prospects.\n",
      "Totalling to (4237, 14) so far.\n",
      "This years draft has 332 prospects.\n",
      "Totalling to (4569, 14) so far.\n",
      "This years draft has 333 prospects.\n",
      "Totalling to (4902, 14) so far.\n",
      "This years draft has 322 prospects.\n",
      "Totalling to (5224, 14) so far.\n",
      "This years draft has 332 prospects.\n",
      "Totalling to (5556, 14) so far.\n",
      "This years draft has 327 prospects.\n",
      "Totalling to (5883, 14) so far.\n",
      "This years draft has 336 prospects.\n",
      "Totalling to (6219, 14) so far.\n",
      "This years draft has 336 prospects.\n",
      "Totalling to (6555, 14) so far.\n",
      "This years draft has 337 prospects.\n",
      "Totalling to (6892, 14) so far.\n",
      "This years draft has 464 prospects.\n",
      "Totalling to (7356, 14) so far.\n",
      "This years draft has 324 prospects.\n",
      "Totalling to (7680, 14) so far.\n",
      "This years draft has 319 prospects.\n",
      "Totalling to (7999, 14) so far.\n",
      "This years draft has 321 prospects.\n",
      "Totalling to (8320, 14) so far.\n"
     ]
    }
   ],
   "source": [
    "urls = []\n",
    "\n",
    "for year in range(2000,2024+1):\n",
    "    urls.append(f'https://www.pro-football-reference.com/draft/{year}-combine.htm')\n",
    "# ^ creating list of URLs, for some reason needs to be 1 longer than makes sense :/\n",
    "\n",
    "all_prospects = np.empty((0,14),dtype=str)\n",
    "for url in urls:\n",
    "    combine = bs(rq.get(url).content,'html.parser')\n",
    "    table_headers = headers(combine)\n",
    "    player_data = table_data(combine,table_headers)\n",
    "    time.sleep(1)\n",
    "    # ^ put the delay in to avoid overwhelming server, idk if thats a thing but was a potential fix online and it worked.\n",
    "    all_prospects = np.append(all_prospects, player_data, axis=0)\n",
    "    print('This years draft has',np.shape(player_data)[0],'prospects.')\n",
    "    print('Totalling to',np.shape(all_prospects),'so far.')\n",
    "# ^ runs functions for each year\n",
    "\n",
    "\n",
    "with open('combine_data.csv','w') as f:\n",
    "    writer = csv.writer(f)\n",
    "    writer.writerows(table_headers)\n",
    "    writer.writerows(all_prospects)\n",
    "# ^ writes to csv file so I dont have to run it all each time."
   ]
  },
  {
   "cell_type": "code",
   "execution_count": 15,
   "metadata": {},
   "outputs": [
    {
     "data": {
      "text/html": [
       "<div>\n",
       "<style scoped>\n",
       "    .dataframe tbody tr th:only-of-type {\n",
       "        vertical-align: middle;\n",
       "    }\n",
       "\n",
       "    .dataframe tbody tr th {\n",
       "        vertical-align: top;\n",
       "    }\n",
       "\n",
       "    .dataframe thead th {\n",
       "        text-align: right;\n",
       "    }\n",
       "</style>\n",
       "<table border=\"1\" class=\"dataframe\">\n",
       "  <thead>\n",
       "    <tr style=\"text-align: right;\">\n",
       "      <th></th>\n",
       "      <th>Year</th>\n",
       "      <th>Player</th>\n",
       "      <th>Pos</th>\n",
       "      <th>School</th>\n",
       "      <th>College</th>\n",
       "      <th>Ht</th>\n",
       "      <th>Wt</th>\n",
       "      <th>40yd</th>\n",
       "      <th>Vertical</th>\n",
       "      <th>Bench</th>\n",
       "      <th>Broad Jump</th>\n",
       "      <th>3Cone</th>\n",
       "      <th>Shuttle</th>\n",
       "      <th>Drafted (tm/rnd/yr)</th>\n",
       "    </tr>\n",
       "  </thead>\n",
       "  <tbody>\n",
       "    <tr>\n",
       "      <th>0</th>\n",
       "      <td>2000</td>\n",
       "      <td>John Abraham</td>\n",
       "      <td>OLB</td>\n",
       "      <td>South Carolina</td>\n",
       "      <td>NaN</td>\n",
       "      <td>6-4</td>\n",
       "      <td>252.0</td>\n",
       "      <td>4.55</td>\n",
       "      <td>NaN</td>\n",
       "      <td>NaN</td>\n",
       "      <td>NaN</td>\n",
       "      <td>NaN</td>\n",
       "      <td>NaN</td>\n",
       "      <td>New York Jets / 1st / 13th pick / 2000</td>\n",
       "    </tr>\n",
       "    <tr>\n",
       "      <th>1</th>\n",
       "      <td>2000</td>\n",
       "      <td>Shaun Alexander</td>\n",
       "      <td>RB</td>\n",
       "      <td>Alabama</td>\n",
       "      <td>College Stats</td>\n",
       "      <td>6-0</td>\n",
       "      <td>218.0</td>\n",
       "      <td>4.58</td>\n",
       "      <td>NaN</td>\n",
       "      <td>NaN</td>\n",
       "      <td>NaN</td>\n",
       "      <td>NaN</td>\n",
       "      <td>NaN</td>\n",
       "      <td>Seattle Seahawks / 1st / 19th pick / 2000</td>\n",
       "    </tr>\n",
       "    <tr>\n",
       "      <th>2</th>\n",
       "      <td>2000</td>\n",
       "      <td>Darnell Alford</td>\n",
       "      <td>OT</td>\n",
       "      <td>Boston Col.</td>\n",
       "      <td>NaN</td>\n",
       "      <td>6-4</td>\n",
       "      <td>334.0</td>\n",
       "      <td>5.56</td>\n",
       "      <td>25.0</td>\n",
       "      <td>23.0</td>\n",
       "      <td>94.0</td>\n",
       "      <td>8.48</td>\n",
       "      <td>4.98</td>\n",
       "      <td>Kansas City Chiefs / 6th / 188th pick / 2000</td>\n",
       "    </tr>\n",
       "    <tr>\n",
       "      <th>3</th>\n",
       "      <td>2000</td>\n",
       "      <td>Kyle Allamon</td>\n",
       "      <td>TE</td>\n",
       "      <td>Texas Tech</td>\n",
       "      <td>NaN</td>\n",
       "      <td>6-2</td>\n",
       "      <td>253.0</td>\n",
       "      <td>4.97</td>\n",
       "      <td>29.0</td>\n",
       "      <td>NaN</td>\n",
       "      <td>104.0</td>\n",
       "      <td>7.29</td>\n",
       "      <td>4.49</td>\n",
       "      <td>NaN</td>\n",
       "    </tr>\n",
       "    <tr>\n",
       "      <th>4</th>\n",
       "      <td>2000</td>\n",
       "      <td>Rashard Anderson</td>\n",
       "      <td>CB</td>\n",
       "      <td>Jackson State</td>\n",
       "      <td>NaN</td>\n",
       "      <td>6-2</td>\n",
       "      <td>206.0</td>\n",
       "      <td>4.55</td>\n",
       "      <td>34.0</td>\n",
       "      <td>NaN</td>\n",
       "      <td>123.0</td>\n",
       "      <td>7.18</td>\n",
       "      <td>4.15</td>\n",
       "      <td>Carolina Panthers / 1st / 23rd pick / 2000</td>\n",
       "    </tr>\n",
       "  </tbody>\n",
       "</table>\n",
       "</div>"
      ],
      "text/plain": [
       "   Year            Player  Pos          School        College   Ht     Wt  \\\n",
       "0  2000      John Abraham  OLB  South Carolina            NaN  6-4  252.0   \n",
       "1  2000   Shaun Alexander   RB         Alabama  College Stats  6-0  218.0   \n",
       "2  2000    Darnell Alford   OT     Boston Col.            NaN  6-4  334.0   \n",
       "3  2000      Kyle Allamon   TE      Texas Tech            NaN  6-2  253.0   \n",
       "4  2000  Rashard Anderson   CB   Jackson State            NaN  6-2  206.0   \n",
       "\n",
       "   40yd  Vertical  Bench  Broad Jump  3Cone  Shuttle  \\\n",
       "0  4.55       NaN    NaN         NaN    NaN      NaN   \n",
       "1  4.58       NaN    NaN         NaN    NaN      NaN   \n",
       "2  5.56      25.0   23.0        94.0   8.48     4.98   \n",
       "3  4.97      29.0    NaN       104.0   7.29     4.49   \n",
       "4  4.55      34.0    NaN       123.0   7.18     4.15   \n",
       "\n",
       "                            Drafted (tm/rnd/yr)  \n",
       "0        New York Jets / 1st / 13th pick / 2000  \n",
       "1     Seattle Seahawks / 1st / 19th pick / 2000  \n",
       "2  Kansas City Chiefs / 6th / 188th pick / 2000  \n",
       "3                                           NaN  \n",
       "4    Carolina Panthers / 1st / 23rd pick / 2000  "
      ]
     },
     "execution_count": 15,
     "metadata": {},
     "output_type": "execute_result"
    }
   ],
   "source": [
    "df = pd.read_csv('combine_data.csv', sep=',',encoding='utf-8',header=0)\n",
    "df.head()\n",
    "# have to rerun this regularly."
   ]
  },
  {
   "cell_type": "code",
   "execution_count": 16,
   "metadata": {},
   "outputs": [
    {
     "data": {
      "text/html": [
       "<div>\n",
       "<style scoped>\n",
       "    .dataframe tbody tr th:only-of-type {\n",
       "        vertical-align: middle;\n",
       "    }\n",
       "\n",
       "    .dataframe tbody tr th {\n",
       "        vertical-align: top;\n",
       "    }\n",
       "\n",
       "    .dataframe thead th {\n",
       "        text-align: right;\n",
       "    }\n",
       "</style>\n",
       "<table border=\"1\" class=\"dataframe\">\n",
       "  <thead>\n",
       "    <tr style=\"text-align: right;\">\n",
       "      <th></th>\n",
       "      <th>Year</th>\n",
       "      <th>Player</th>\n",
       "      <th>Pos</th>\n",
       "      <th>College</th>\n",
       "      <th>Height</th>\n",
       "      <th>Weight</th>\n",
       "      <th>40yd</th>\n",
       "      <th>Vertical</th>\n",
       "      <th>Bench</th>\n",
       "      <th>Broad Jump</th>\n",
       "      <th>3Cone</th>\n",
       "      <th>Shuttle</th>\n",
       "      <th>Drafted (tm/rnd/yr)</th>\n",
       "    </tr>\n",
       "  </thead>\n",
       "  <tbody>\n",
       "    <tr>\n",
       "      <th>1801</th>\n",
       "      <td>2005</td>\n",
       "      <td>Samuel Lightbody</td>\n",
       "      <td>OT</td>\n",
       "      <td>Michigan State</td>\n",
       "      <td>6-9</td>\n",
       "      <td>321.0</td>\n",
       "      <td>5.62</td>\n",
       "      <td>30.0</td>\n",
       "      <td>NaN</td>\n",
       "      <td>108.0</td>\n",
       "      <td>7.95</td>\n",
       "      <td>4.41</td>\n",
       "      <td>NaN</td>\n",
       "    </tr>\n",
       "    <tr>\n",
       "      <th>6086</th>\n",
       "      <td>2018</td>\n",
       "      <td>Kolton Miller</td>\n",
       "      <td>OT</td>\n",
       "      <td>UCLA</td>\n",
       "      <td>6-9</td>\n",
       "      <td>309.0</td>\n",
       "      <td>4.95</td>\n",
       "      <td>31.5</td>\n",
       "      <td>24.0</td>\n",
       "      <td>121.0</td>\n",
       "      <td>7.34</td>\n",
       "      <td>4.49</td>\n",
       "      <td>Oakland Raiders / 1st / 15th pick / 2018</td>\n",
       "    </tr>\n",
       "    <tr>\n",
       "      <th>8004</th>\n",
       "      <td>2024</td>\n",
       "      <td>Joe Alt</td>\n",
       "      <td>OT</td>\n",
       "      <td>Notre Dame</td>\n",
       "      <td>6-9</td>\n",
       "      <td>321.0</td>\n",
       "      <td>5.05</td>\n",
       "      <td>28.0</td>\n",
       "      <td>NaN</td>\n",
       "      <td>112.0</td>\n",
       "      <td>7.31</td>\n",
       "      <td>4.51</td>\n",
       "      <td>NaN</td>\n",
       "    </tr>\n",
       "    <tr>\n",
       "      <th>1012</th>\n",
       "      <td>2003</td>\n",
       "      <td>Brennan Curtin</td>\n",
       "      <td>OT</td>\n",
       "      <td>Notre Dame</td>\n",
       "      <td>6-9</td>\n",
       "      <td>318.0</td>\n",
       "      <td>5.28</td>\n",
       "      <td>32.0</td>\n",
       "      <td>NaN</td>\n",
       "      <td>100.0</td>\n",
       "      <td>7.98</td>\n",
       "      <td>4.87</td>\n",
       "      <td>Green Bay Packers / 6th / 212th pick / 2003</td>\n",
       "    </tr>\n",
       "    <tr>\n",
       "      <th>6080</th>\n",
       "      <td>2018</td>\n",
       "      <td>Mike McGlinchey</td>\n",
       "      <td>OT</td>\n",
       "      <td>Notre Dame</td>\n",
       "      <td>6-8</td>\n",
       "      <td>309.0</td>\n",
       "      <td>NaN</td>\n",
       "      <td>28.5</td>\n",
       "      <td>24.0</td>\n",
       "      <td>105.0</td>\n",
       "      <td>NaN</td>\n",
       "      <td>NaN</td>\n",
       "      <td>San Francisco 49ers / 1st / 9th pick / 2018</td>\n",
       "    </tr>\n",
       "    <tr>\n",
       "      <th>...</th>\n",
       "      <td>...</td>\n",
       "      <td>...</td>\n",
       "      <td>...</td>\n",
       "      <td>...</td>\n",
       "      <td>...</td>\n",
       "      <td>...</td>\n",
       "      <td>...</td>\n",
       "      <td>...</td>\n",
       "      <td>...</td>\n",
       "      <td>...</td>\n",
       "      <td>...</td>\n",
       "      <td>...</td>\n",
       "      <td>...</td>\n",
       "    </tr>\n",
       "    <tr>\n",
       "      <th>7265</th>\n",
       "      <td>2021</td>\n",
       "      <td>Elerson Smith</td>\n",
       "      <td>DL</td>\n",
       "      <td>Northern Iowa</td>\n",
       "      <td>NaN</td>\n",
       "      <td>NaN</td>\n",
       "      <td>4.71</td>\n",
       "      <td>41.5</td>\n",
       "      <td>26.0</td>\n",
       "      <td>127.0</td>\n",
       "      <td>7.00</td>\n",
       "      <td>4.39</td>\n",
       "      <td>New York Giants / 4th / 116th pick / 2021</td>\n",
       "    </tr>\n",
       "    <tr>\n",
       "      <th>7300</th>\n",
       "      <td>2021</td>\n",
       "      <td>Khyiris Tonga</td>\n",
       "      <td>DL</td>\n",
       "      <td>BYU</td>\n",
       "      <td>NaN</td>\n",
       "      <td>NaN</td>\n",
       "      <td>NaN</td>\n",
       "      <td>NaN</td>\n",
       "      <td>35.0</td>\n",
       "      <td>NaN</td>\n",
       "      <td>NaN</td>\n",
       "      <td>NaN</td>\n",
       "      <td>Chicago Bears / 7th / 250th pick / 2021</td>\n",
       "    </tr>\n",
       "    <tr>\n",
       "      <th>7306</th>\n",
       "      <td>2021</td>\n",
       "      <td>Carl Tucker</td>\n",
       "      <td>TE</td>\n",
       "      <td>Alabama</td>\n",
       "      <td>NaN</td>\n",
       "      <td>NaN</td>\n",
       "      <td>NaN</td>\n",
       "      <td>NaN</td>\n",
       "      <td>NaN</td>\n",
       "      <td>NaN</td>\n",
       "      <td>NaN</td>\n",
       "      <td>NaN</td>\n",
       "      <td>NaN</td>\n",
       "    </tr>\n",
       "    <tr>\n",
       "      <th>7321</th>\n",
       "      <td>2021</td>\n",
       "      <td>Garret Wallow</td>\n",
       "      <td>LB</td>\n",
       "      <td>TCU</td>\n",
       "      <td>NaN</td>\n",
       "      <td>NaN</td>\n",
       "      <td>4.65</td>\n",
       "      <td>32.5</td>\n",
       "      <td>22.0</td>\n",
       "      <td>122.0</td>\n",
       "      <td>6.87</td>\n",
       "      <td>4.12</td>\n",
       "      <td>Houston Texans / 5th / 170th pick / 2021</td>\n",
       "    </tr>\n",
       "    <tr>\n",
       "      <th>7328</th>\n",
       "      <td>2021</td>\n",
       "      <td>Pro Wells</td>\n",
       "      <td>TE</td>\n",
       "      <td>TCU</td>\n",
       "      <td>NaN</td>\n",
       "      <td>NaN</td>\n",
       "      <td>NaN</td>\n",
       "      <td>NaN</td>\n",
       "      <td>NaN</td>\n",
       "      <td>NaN</td>\n",
       "      <td>NaN</td>\n",
       "      <td>NaN</td>\n",
       "      <td>NaN</td>\n",
       "    </tr>\n",
       "  </tbody>\n",
       "</table>\n",
       "<p>8320 rows × 13 columns</p>\n",
       "</div>"
      ],
      "text/plain": [
       "      Year            Player Pos         College Height  Weight  40yd  \\\n",
       "1801  2005  Samuel Lightbody  OT  Michigan State    6-9   321.0  5.62   \n",
       "6086  2018     Kolton Miller  OT            UCLA    6-9   309.0  4.95   \n",
       "8004  2024           Joe Alt  OT      Notre Dame    6-9   321.0  5.05   \n",
       "1012  2003    Brennan Curtin  OT      Notre Dame    6-9   318.0  5.28   \n",
       "6080  2018   Mike McGlinchey  OT      Notre Dame    6-8   309.0   NaN   \n",
       "...    ...               ...  ..             ...    ...     ...   ...   \n",
       "7265  2021     Elerson Smith  DL   Northern Iowa    NaN     NaN  4.71   \n",
       "7300  2021     Khyiris Tonga  DL             BYU    NaN     NaN   NaN   \n",
       "7306  2021       Carl Tucker  TE         Alabama    NaN     NaN   NaN   \n",
       "7321  2021     Garret Wallow  LB             TCU    NaN     NaN  4.65   \n",
       "7328  2021         Pro Wells  TE             TCU    NaN     NaN   NaN   \n",
       "\n",
       "      Vertical  Bench  Broad Jump  3Cone  Shuttle  \\\n",
       "1801      30.0    NaN       108.0   7.95     4.41   \n",
       "6086      31.5   24.0       121.0   7.34     4.49   \n",
       "8004      28.0    NaN       112.0   7.31     4.51   \n",
       "1012      32.0    NaN       100.0   7.98     4.87   \n",
       "6080      28.5   24.0       105.0    NaN      NaN   \n",
       "...        ...    ...         ...    ...      ...   \n",
       "7265      41.5   26.0       127.0   7.00     4.39   \n",
       "7300       NaN   35.0         NaN    NaN      NaN   \n",
       "7306       NaN    NaN         NaN    NaN      NaN   \n",
       "7321      32.5   22.0       122.0   6.87     4.12   \n",
       "7328       NaN    NaN         NaN    NaN      NaN   \n",
       "\n",
       "                              Drafted (tm/rnd/yr)  \n",
       "1801                                          NaN  \n",
       "6086     Oakland Raiders / 1st / 15th pick / 2018  \n",
       "8004                                          NaN  \n",
       "1012  Green Bay Packers / 6th / 212th pick / 2003  \n",
       "6080  San Francisco 49ers / 1st / 9th pick / 2018  \n",
       "...                                           ...  \n",
       "7265    New York Giants / 4th / 116th pick / 2021  \n",
       "7300      Chicago Bears / 7th / 250th pick / 2021  \n",
       "7306                                          NaN  \n",
       "7321     Houston Texans / 5th / 170th pick / 2021  \n",
       "7328                                          NaN  \n",
       "\n",
       "[8320 rows x 13 columns]"
      ]
     },
     "execution_count": 16,
     "metadata": {},
     "output_type": "execute_result"
    }
   ],
   "source": [
    "df = df.drop(columns='College')\n",
    "df = df.rename(columns={'School' : 'College',\n",
    "                   'Ht' : 'Height',\n",
    "                   'Wt' : 'Weight'})\n",
    "# df.head()\n",
    "df.sort_values('Height', ascending = False)\n",
    "# ^ ascending = False is descending"
   ]
  },
  {
   "cell_type": "code",
   "execution_count": 17,
   "metadata": {},
   "outputs": [
    {
     "data": {
      "text/html": [
       "<div>\n",
       "<style scoped>\n",
       "    .dataframe tbody tr th:only-of-type {\n",
       "        vertical-align: middle;\n",
       "    }\n",
       "\n",
       "    .dataframe tbody tr th {\n",
       "        vertical-align: top;\n",
       "    }\n",
       "\n",
       "    .dataframe thead th {\n",
       "        text-align: right;\n",
       "    }\n",
       "</style>\n",
       "<table border=\"1\" class=\"dataframe\">\n",
       "  <thead>\n",
       "    <tr style=\"text-align: right;\">\n",
       "      <th></th>\n",
       "      <th>Year</th>\n",
       "      <th>Player</th>\n",
       "      <th>Pos</th>\n",
       "      <th>College</th>\n",
       "      <th>Height</th>\n",
       "      <th>Weight</th>\n",
       "      <th>40yd</th>\n",
       "      <th>Vertical</th>\n",
       "      <th>Bench</th>\n",
       "      <th>Broad Jump</th>\n",
       "      <th>3Cone</th>\n",
       "      <th>Shuttle</th>\n",
       "      <th>Team</th>\n",
       "      <th>Round</th>\n",
       "      <th>Pick</th>\n",
       "    </tr>\n",
       "  </thead>\n",
       "  <tbody>\n",
       "    <tr>\n",
       "      <th>0</th>\n",
       "      <td>2000</td>\n",
       "      <td>John Abraham</td>\n",
       "      <td>OLB</td>\n",
       "      <td>South Carolina</td>\n",
       "      <td>6'4\"</td>\n",
       "      <td>252.0</td>\n",
       "      <td>4.55</td>\n",
       "      <td>NaN</td>\n",
       "      <td>NaN</td>\n",
       "      <td>NaN</td>\n",
       "      <td>NaN</td>\n",
       "      <td>NaN</td>\n",
       "      <td>New York Jets</td>\n",
       "      <td>1st</td>\n",
       "      <td>13th pick</td>\n",
       "    </tr>\n",
       "    <tr>\n",
       "      <th>1</th>\n",
       "      <td>2000</td>\n",
       "      <td>Shaun Alexander</td>\n",
       "      <td>RB</td>\n",
       "      <td>Alabama</td>\n",
       "      <td>6'0\"</td>\n",
       "      <td>218.0</td>\n",
       "      <td>4.58</td>\n",
       "      <td>NaN</td>\n",
       "      <td>NaN</td>\n",
       "      <td>NaN</td>\n",
       "      <td>NaN</td>\n",
       "      <td>NaN</td>\n",
       "      <td>Seattle Seahawks</td>\n",
       "      <td>1st</td>\n",
       "      <td>19th pick</td>\n",
       "    </tr>\n",
       "    <tr>\n",
       "      <th>2</th>\n",
       "      <td>2000</td>\n",
       "      <td>Darnell Alford</td>\n",
       "      <td>OT</td>\n",
       "      <td>Boston Col.</td>\n",
       "      <td>6'4\"</td>\n",
       "      <td>334.0</td>\n",
       "      <td>5.56</td>\n",
       "      <td>25.0</td>\n",
       "      <td>23.0</td>\n",
       "      <td>94.0</td>\n",
       "      <td>8.48</td>\n",
       "      <td>4.98</td>\n",
       "      <td>Kansas City Chiefs</td>\n",
       "      <td>6th</td>\n",
       "      <td>188th pick</td>\n",
       "    </tr>\n",
       "    <tr>\n",
       "      <th>3</th>\n",
       "      <td>2000</td>\n",
       "      <td>Kyle Allamon</td>\n",
       "      <td>TE</td>\n",
       "      <td>Texas Tech</td>\n",
       "      <td>6'2\"</td>\n",
       "      <td>253.0</td>\n",
       "      <td>4.97</td>\n",
       "      <td>29.0</td>\n",
       "      <td>NaN</td>\n",
       "      <td>104.0</td>\n",
       "      <td>7.29</td>\n",
       "      <td>4.49</td>\n",
       "      <td>Undrafted</td>\n",
       "      <td>Undrafted</td>\n",
       "      <td>Undrafted</td>\n",
       "    </tr>\n",
       "    <tr>\n",
       "      <th>4</th>\n",
       "      <td>2000</td>\n",
       "      <td>Rashard Anderson</td>\n",
       "      <td>CB</td>\n",
       "      <td>Jackson State</td>\n",
       "      <td>6'2\"</td>\n",
       "      <td>206.0</td>\n",
       "      <td>4.55</td>\n",
       "      <td>34.0</td>\n",
       "      <td>NaN</td>\n",
       "      <td>123.0</td>\n",
       "      <td>7.18</td>\n",
       "      <td>4.15</td>\n",
       "      <td>Carolina Panthers</td>\n",
       "      <td>1st</td>\n",
       "      <td>23rd pick</td>\n",
       "    </tr>\n",
       "  </tbody>\n",
       "</table>\n",
       "</div>"
      ],
      "text/plain": [
       "   Year            Player  Pos         College Height  Weight  40yd  Vertical  \\\n",
       "0  2000      John Abraham  OLB  South Carolina   6'4\"   252.0  4.55       NaN   \n",
       "1  2000   Shaun Alexander   RB         Alabama   6'0\"   218.0  4.58       NaN   \n",
       "2  2000    Darnell Alford   OT     Boston Col.   6'4\"   334.0  5.56      25.0   \n",
       "3  2000      Kyle Allamon   TE      Texas Tech   6'2\"   253.0  4.97      29.0   \n",
       "4  2000  Rashard Anderson   CB   Jackson State   6'2\"   206.0  4.55      34.0   \n",
       "\n",
       "   Bench  Broad Jump  3Cone  Shuttle                Team      Round  \\\n",
       "0    NaN         NaN    NaN      NaN       New York Jets        1st   \n",
       "1    NaN         NaN    NaN      NaN    Seattle Seahawks        1st   \n",
       "2   23.0        94.0   8.48     4.98  Kansas City Chiefs        6th   \n",
       "3    NaN       104.0   7.29     4.49           Undrafted  Undrafted   \n",
       "4    NaN       123.0   7.18     4.15   Carolina Panthers        1st   \n",
       "\n",
       "         Pick  \n",
       "0   13th pick  \n",
       "1   19th pick  \n",
       "2  188th pick  \n",
       "3   Undrafted  \n",
       "4   23rd pick  "
      ]
     },
     "execution_count": 17,
     "metadata": {},
     "output_type": "execute_result"
    }
   ],
   "source": [
    "df[['Team', 'Round', 'Pick','Year2']] = df['Drafted (tm/rnd/yr)'].str.split(' / ', expand=True)\n",
    "df = df.drop(columns={'Year2', 'Drafted (tm/rnd/yr)'})\n",
    "df['Team'].fillna('Undrafted', inplace=True)\n",
    "df['Round'].fillna('Undrafted', inplace=True)\n",
    "df['Pick'].fillna('Undrafted', inplace=True)\n",
    "# ^ inplace = True keeps rest of columns\n",
    "df[['Feet','Inches']] = df['Height'].str.split('-', expand=True)\n",
    "df['Height'] = df['Feet'] + \"'\" + df['Inches'] + \"\\\"\"\n",
    "df = df.drop(columns={'Feet', 'Inches'})\n",
    "df.head()"
   ]
  },
  {
   "cell_type": "code",
   "execution_count": 18,
   "metadata": {},
   "outputs": [],
   "source": [
    "df = df[['Year', 'Player', 'Pos', 'College', 'Height', 'Weight', '40yd' ,'Vertical', 'Bench', 'Broad Jump', '3Cone', 'Shuttle', 'Team', 'Round', 'Pick']]\n",
    "df.to_csv('clean_combine_data.csv', index=True)"
   ]
  },
  {
   "cell_type": "markdown",
   "metadata": {},
   "source": [
    "\n",
    "\n",
    "\n",
    "Rerun box below\n",
    "\n",
    "\n"
   ]
  },
  {
   "cell_type": "code",
   "execution_count": 30,
   "metadata": {},
   "outputs": [],
   "source": [
    "df = pd.read_csv('clean_combine_data.csv', sep=',',encoding='utf-8',header=0)\n",
    "df = df.rename(columns ={'Unnamed: 0': 'Index'})\n",
    "# df.head()\n",
    "# have to rerun this regularly."
   ]
  },
  {
   "cell_type": "code",
   "execution_count": 31,
   "metadata": {},
   "outputs": [],
   "source": [
    "import scipy.stats as stats\n",
    "tests = {'Height': 1,\n",
    "         'Weight': 1,\n",
    "         '40yd': 0,\n",
    "         'Vertical': 1,\n",
    "         'Bench': 1,\n",
    "         'Broad Jump': 1,\n",
    "         '3Cone': 0,\n",
    "         'Shuttle': 0}\n",
    "# 1 if higher is better, 0 if lower is better. For timed events (40yd, 3Cone, Shuttle), a better result is lower -> higher %ile.\n",
    "for col, val in tests.items():\n",
    "    df_test = df.dropna(subset=[col])\n",
    "    df_test = df_test.sort_values(col, ascending = True)\n",
    "    df_test[col+'_%ile'] = stats.percentileofscore(df_test[col],df_test[col])\n",
    "    if val == 0:\n",
    "        df_test[col+'_%ile'] = 100 - df_test[col+'_%ile']\n",
    "    # if statements flips %iles based on dict above\n",
    "    df_test = df_test[['Index',col+'_%ile']]\n",
    "    # df_test = df_test.replace('NaN','0')\n",
    "    df = df.merge(df_test, how='outer', on='Index')\n",
    "# Finds percentiles for each test and add col w that value. NaN if player didnt compete.\n",
    "df.fillna(0,inplace=True)"
   ]
  },
  {
   "cell_type": "code",
   "execution_count": 32,
   "metadata": {},
   "outputs": [
    {
     "name": "stderr",
     "output_type": "stream",
     "text": [
      "/var/folders/2q/w6cfp68d293ccyw_4ysbw26c0000gn/T/ipykernel_28140/675849103.py:5: SettingWithCopyWarning:\n",
      "\n",
      "\n",
      "A value is trying to be set on a copy of a slice from a DataFrame.\n",
      "Try using .loc[row_indexer,col_indexer] = value instead\n",
      "\n",
      "See the caveats in the documentation: https://pandas.pydata.org/pandas-docs/stable/user_guide/indexing.html#returning-a-view-versus-a-copy\n",
      "\n"
     ]
    },
    {
     "data": {
      "text/html": [
       "<div>\n",
       "<style scoped>\n",
       "    .dataframe tbody tr th:only-of-type {\n",
       "        vertical-align: middle;\n",
       "    }\n",
       "\n",
       "    .dataframe tbody tr th {\n",
       "        vertical-align: top;\n",
       "    }\n",
       "\n",
       "    .dataframe thead th {\n",
       "        text-align: right;\n",
       "    }\n",
       "</style>\n",
       "<table border=\"1\" class=\"dataframe\">\n",
       "  <thead>\n",
       "    <tr style=\"text-align: right;\">\n",
       "      <th></th>\n",
       "      <th>Index</th>\n",
       "      <th>Year</th>\n",
       "      <th>Player</th>\n",
       "      <th>Pos</th>\n",
       "      <th>College</th>\n",
       "      <th>Height</th>\n",
       "      <th>Weight</th>\n",
       "      <th>40yd</th>\n",
       "      <th>Vertical</th>\n",
       "      <th>Bench</th>\n",
       "      <th>...</th>\n",
       "      <th>Pick</th>\n",
       "      <th>Height_%ile</th>\n",
       "      <th>Weight_%ile</th>\n",
       "      <th>40yd_%ile</th>\n",
       "      <th>Vertical_%ile</th>\n",
       "      <th>Bench_%ile</th>\n",
       "      <th>Broad Jump_%ile</th>\n",
       "      <th>3Cone_%ile</th>\n",
       "      <th>Shuttle_%ile</th>\n",
       "      <th>Average_of_6</th>\n",
       "    </tr>\n",
       "  </thead>\n",
       "  <tbody>\n",
       "    <tr>\n",
       "      <th>8315</th>\n",
       "      <td>8315</td>\n",
       "      <td>2024</td>\n",
       "      <td>Roman Wilson</td>\n",
       "      <td>WR</td>\n",
       "      <td>Michigan</td>\n",
       "      <td>5'11\"</td>\n",
       "      <td>185.0</td>\n",
       "      <td>4.39</td>\n",
       "      <td>0.0</td>\n",
       "      <td>12.0</td>\n",
       "      <td>...</td>\n",
       "      <td>Undrafted</td>\n",
       "      <td>10.535520</td>\n",
       "      <td>4.622710</td>\n",
       "      <td>95.606338</td>\n",
       "      <td>0.000000</td>\n",
       "      <td>8.075536</td>\n",
       "      <td>0.000000</td>\n",
       "      <td>0.0</td>\n",
       "      <td>0.0</td>\n",
       "      <td>17.280312</td>\n",
       "    </tr>\n",
       "    <tr>\n",
       "      <th>8316</th>\n",
       "      <td>8316</td>\n",
       "      <td>2024</td>\n",
       "      <td>Mekhi Wingo</td>\n",
       "      <td>DT</td>\n",
       "      <td>LSU</td>\n",
       "      <td>6'0\"</td>\n",
       "      <td>284.0</td>\n",
       "      <td>4.85</td>\n",
       "      <td>31.5</td>\n",
       "      <td>25.0</td>\n",
       "      <td>...</td>\n",
       "      <td>Undrafted</td>\n",
       "      <td>26.335786</td>\n",
       "      <td>75.711186</td>\n",
       "      <td>33.937926</td>\n",
       "      <td>34.949937</td>\n",
       "      <td>75.593092</td>\n",
       "      <td>25.087191</td>\n",
       "      <td>0.0</td>\n",
       "      <td>0.0</td>\n",
       "      <td>28.261358</td>\n",
       "    </tr>\n",
       "    <tr>\n",
       "      <th>8317</th>\n",
       "      <td>8317</td>\n",
       "      <td>2024</td>\n",
       "      <td>Xavier Worthy</td>\n",
       "      <td>WR</td>\n",
       "      <td>Texas</td>\n",
       "      <td>5'11\"</td>\n",
       "      <td>165.0</td>\n",
       "      <td>4.21</td>\n",
       "      <td>41.0</td>\n",
       "      <td>0.0</td>\n",
       "      <td>...</td>\n",
       "      <td>Undrafted</td>\n",
       "      <td>10.535520</td>\n",
       "      <td>0.150675</td>\n",
       "      <td>99.986904</td>\n",
       "      <td>97.794118</td>\n",
       "      <td>0.000000</td>\n",
       "      <td>97.154407</td>\n",
       "      <td>0.0</td>\n",
       "      <td>0.0</td>\n",
       "      <td>49.155905</td>\n",
       "    </tr>\n",
       "    <tr>\n",
       "      <th>8318</th>\n",
       "      <td>8318</td>\n",
       "      <td>2024</td>\n",
       "      <td>Jaylen Wright</td>\n",
       "      <td>RB</td>\n",
       "      <td>Tennessee</td>\n",
       "      <td>5'11\"</td>\n",
       "      <td>210.0</td>\n",
       "      <td>4.38</td>\n",
       "      <td>38.0</td>\n",
       "      <td>0.0</td>\n",
       "      <td>...</td>\n",
       "      <td>Undrafted</td>\n",
       "      <td>10.535520</td>\n",
       "      <td>30.876326</td>\n",
       "      <td>96.444474</td>\n",
       "      <td>88.767209</td>\n",
       "      <td>0.000000</td>\n",
       "      <td>99.064680</td>\n",
       "      <td>0.0</td>\n",
       "      <td>0.0</td>\n",
       "      <td>47.379394</td>\n",
       "    </tr>\n",
       "    <tr>\n",
       "      <th>8319</th>\n",
       "      <td>8319</td>\n",
       "      <td>2024</td>\n",
       "      <td>Zak Zinter</td>\n",
       "      <td>G</td>\n",
       "      <td>Michigan</td>\n",
       "      <td>6'6\"</td>\n",
       "      <td>309.0</td>\n",
       "      <td>0.00</td>\n",
       "      <td>0.0</td>\n",
       "      <td>0.0</td>\n",
       "      <td>...</td>\n",
       "      <td>Undrafted</td>\n",
       "      <td>95.181522</td>\n",
       "      <td>87.662729</td>\n",
       "      <td>0.000000</td>\n",
       "      <td>0.000000</td>\n",
       "      <td>0.000000</td>\n",
       "      <td>0.000000</td>\n",
       "      <td>0.0</td>\n",
       "      <td>0.0</td>\n",
       "      <td>0.000000</td>\n",
       "    </tr>\n",
       "  </tbody>\n",
       "</table>\n",
       "<p>5 rows × 25 columns</p>\n",
       "</div>"
      ],
      "text/plain": [
       "      Index  Year         Player Pos    College Height  Weight  40yd  \\\n",
       "8315   8315  2024   Roman Wilson  WR   Michigan  5'11\"   185.0  4.39   \n",
       "8316   8316  2024    Mekhi Wingo  DT        LSU   6'0\"   284.0  4.85   \n",
       "8317   8317  2024  Xavier Worthy  WR      Texas  5'11\"   165.0  4.21   \n",
       "8318   8318  2024  Jaylen Wright  RB  Tennessee  5'11\"   210.0  4.38   \n",
       "8319   8319  2024     Zak Zinter   G   Michigan   6'6\"   309.0  0.00   \n",
       "\n",
       "      Vertical  Bench  ...       Pick  Height_%ile  Weight_%ile  40yd_%ile  \\\n",
       "8315       0.0   12.0  ...  Undrafted    10.535520     4.622710  95.606338   \n",
       "8316      31.5   25.0  ...  Undrafted    26.335786    75.711186  33.937926   \n",
       "8317      41.0    0.0  ...  Undrafted    10.535520     0.150675  99.986904   \n",
       "8318      38.0    0.0  ...  Undrafted    10.535520    30.876326  96.444474   \n",
       "8319       0.0    0.0  ...  Undrafted    95.181522    87.662729   0.000000   \n",
       "\n",
       "     Vertical_%ile Bench_%ile  Broad Jump_%ile  3Cone_%ile  Shuttle_%ile  \\\n",
       "8315      0.000000   8.075536         0.000000         0.0           0.0   \n",
       "8316     34.949937  75.593092        25.087191         0.0           0.0   \n",
       "8317     97.794118   0.000000        97.154407         0.0           0.0   \n",
       "8318     88.767209   0.000000        99.064680         0.0           0.0   \n",
       "8319      0.000000   0.000000         0.000000         0.0           0.0   \n",
       "\n",
       "      Average_of_6  \n",
       "8315     17.280312  \n",
       "8316     28.261358  \n",
       "8317     49.155905  \n",
       "8318     47.379394  \n",
       "8319      0.000000  \n",
       "\n",
       "[5 rows x 25 columns]"
      ]
     },
     "execution_count": 32,
     "metadata": {},
     "output_type": "execute_result"
    }
   ],
   "source": [
    "def Pick_N(df_avrg, n):\n",
    "    df_avrg = df[['40yd_%ile','Vertical_%ile', 'Bench_%ile', 'Broad Jump_%ile', '3Cone_%ile', 'Shuttle_%ile']]\n",
    "    # Create a new column to store the average of best n results\n",
    "    # df_avrg = df_avrg.replace('NaN', '0')\n",
    "    df_avrg[f'Average_of_{n}'] = df_avrg.apply(lambda row: row.nlargest(n).mean(), axis=1)\n",
    "    df[f'Average_of_{n}'] = df_avrg[f'Average_of_{n}']\n",
    "    return df\n",
    "\n",
    "df_6 = Pick_N(df,6)\n",
    "# df_complete['Average_ofN'] = df.assign(df_complete)\n",
    "df_6.tail()"
   ]
  },
  {
   "cell_type": "code",
   "execution_count": 33,
   "metadata": {},
   "outputs": [
    {
     "data": {
      "text/html": [
       "<div>\n",
       "<style scoped>\n",
       "    .dataframe tbody tr th:only-of-type {\n",
       "        vertical-align: middle;\n",
       "    }\n",
       "\n",
       "    .dataframe tbody tr th {\n",
       "        vertical-align: top;\n",
       "    }\n",
       "\n",
       "    .dataframe thead th {\n",
       "        text-align: right;\n",
       "    }\n",
       "</style>\n",
       "<table border=\"1\" class=\"dataframe\">\n",
       "  <thead>\n",
       "    <tr style=\"text-align: right;\">\n",
       "      <th></th>\n",
       "      <th>Index</th>\n",
       "      <th>Year</th>\n",
       "      <th>Player</th>\n",
       "      <th>Pos</th>\n",
       "      <th>College</th>\n",
       "      <th>Height</th>\n",
       "      <th>Weight</th>\n",
       "      <th>40yd</th>\n",
       "      <th>Vertical</th>\n",
       "      <th>Bench</th>\n",
       "      <th>...</th>\n",
       "      <th>Pick</th>\n",
       "      <th>Height_%ile</th>\n",
       "      <th>Weight_%ile</th>\n",
       "      <th>40yd_%ile</th>\n",
       "      <th>Vertical_%ile</th>\n",
       "      <th>Bench_%ile</th>\n",
       "      <th>Broad Jump_%ile</th>\n",
       "      <th>3Cone_%ile</th>\n",
       "      <th>Shuttle_%ile</th>\n",
       "      <th>Average_of_6</th>\n",
       "    </tr>\n",
       "  </thead>\n",
       "  <tbody>\n",
       "    <tr>\n",
       "      <th>4778</th>\n",
       "      <td>4778</td>\n",
       "      <td>2014</td>\n",
       "      <td>Jerick McKinnon</td>\n",
       "      <td>RB</td>\n",
       "      <td>Georgia Southern</td>\n",
       "      <td>5'9\"</td>\n",
       "      <td>209.0</td>\n",
       "      <td>4.41</td>\n",
       "      <td>40.5</td>\n",
       "      <td>32.0</td>\n",
       "      <td>...</td>\n",
       "      <td>96th pick</td>\n",
       "      <td>18.827644</td>\n",
       "      <td>29.622710</td>\n",
       "      <td>93.877685</td>\n",
       "      <td>96.831977</td>\n",
       "      <td>95.501993</td>\n",
       "      <td>97.899493</td>\n",
       "      <td>89.591754</td>\n",
       "      <td>86.963794</td>\n",
       "      <td>93.444449</td>\n",
       "    </tr>\n",
       "    <tr>\n",
       "      <th>7348</th>\n",
       "      <td>7348</td>\n",
       "      <td>2021</td>\n",
       "      <td>Marco Wilson</td>\n",
       "      <td>CB</td>\n",
       "      <td>Florida</td>\n",
       "      <td>5'11\"</td>\n",
       "      <td>191.0</td>\n",
       "      <td>4.37</td>\n",
       "      <td>43.5</td>\n",
       "      <td>26.0</td>\n",
       "      <td>...</td>\n",
       "      <td>136th pick</td>\n",
       "      <td>10.535520</td>\n",
       "      <td>9.582932</td>\n",
       "      <td>97.164746</td>\n",
       "      <td>99.734043</td>\n",
       "      <td>80.176504</td>\n",
       "      <td>99.635384</td>\n",
       "      <td>91.956346</td>\n",
       "      <td>85.615899</td>\n",
       "      <td>92.380487</td>\n",
       "    </tr>\n",
       "    <tr>\n",
       "      <th>168</th>\n",
       "      <td>168</td>\n",
       "      <td>2000</td>\n",
       "      <td>Curtis Keaton</td>\n",
       "      <td>RB</td>\n",
       "      <td>West Virginia</td>\n",
       "      <td>5'10\"</td>\n",
       "      <td>214.0</td>\n",
       "      <td>4.41</td>\n",
       "      <td>41.5</td>\n",
       "      <td>23.0</td>\n",
       "      <td>...</td>\n",
       "      <td>97th pick</td>\n",
       "      <td>3.063563</td>\n",
       "      <td>35.547252</td>\n",
       "      <td>93.877685</td>\n",
       "      <td>98.576345</td>\n",
       "      <td>64.537863</td>\n",
       "      <td>97.154407</td>\n",
       "      <td>90.268795</td>\n",
       "      <td>98.720976</td>\n",
       "      <td>90.522679</td>\n",
       "    </tr>\n",
       "    <tr>\n",
       "      <th>2003</th>\n",
       "      <td>2003</td>\n",
       "      <td>2006</td>\n",
       "      <td>Vernon Davis</td>\n",
       "      <td>TE</td>\n",
       "      <td>Maryland</td>\n",
       "      <td>6'3\"</td>\n",
       "      <td>254.0</td>\n",
       "      <td>4.38</td>\n",
       "      <td>42.0</td>\n",
       "      <td>33.0</td>\n",
       "      <td>...</td>\n",
       "      <td>6th pick</td>\n",
       "      <td>64.232300</td>\n",
       "      <td>66.092093</td>\n",
       "      <td>96.444474</td>\n",
       "      <td>99.131727</td>\n",
       "      <td>96.498387</td>\n",
       "      <td>93.746037</td>\n",
       "      <td>72.402991</td>\n",
       "      <td>80.293192</td>\n",
       "      <td>89.752801</td>\n",
       "    </tr>\n",
       "    <tr>\n",
       "      <th>4432</th>\n",
       "      <td>4432</td>\n",
       "      <td>2013</td>\n",
       "      <td>Christine Michael</td>\n",
       "      <td>RB</td>\n",
       "      <td>Texas A&amp;M</td>\n",
       "      <td>5'10\"</td>\n",
       "      <td>220.0</td>\n",
       "      <td>4.54</td>\n",
       "      <td>43.0</td>\n",
       "      <td>27.0</td>\n",
       "      <td>...</td>\n",
       "      <td>62nd pick</td>\n",
       "      <td>3.063563</td>\n",
       "      <td>41.037850</td>\n",
       "      <td>73.801729</td>\n",
       "      <td>99.601064</td>\n",
       "      <td>84.190548</td>\n",
       "      <td>87.666455</td>\n",
       "      <td>96.796686</td>\n",
       "      <td>95.749705</td>\n",
       "      <td>89.634364</td>\n",
       "    </tr>\n",
       "  </tbody>\n",
       "</table>\n",
       "<p>5 rows × 25 columns</p>\n",
       "</div>"
      ],
      "text/plain": [
       "      Index  Year             Player Pos           College Height  Weight  \\\n",
       "4778   4778  2014    Jerick McKinnon  RB  Georgia Southern   5'9\"   209.0   \n",
       "7348   7348  2021       Marco Wilson  CB           Florida  5'11\"   191.0   \n",
       "168     168  2000      Curtis Keaton  RB     West Virginia  5'10\"   214.0   \n",
       "2003   2003  2006       Vernon Davis  TE          Maryland   6'3\"   254.0   \n",
       "4432   4432  2013  Christine Michael  RB         Texas A&M  5'10\"   220.0   \n",
       "\n",
       "      40yd  Vertical  Bench  ...        Pick  Height_%ile  Weight_%ile  \\\n",
       "4778  4.41      40.5   32.0  ...   96th pick    18.827644    29.622710   \n",
       "7348  4.37      43.5   26.0  ...  136th pick    10.535520     9.582932   \n",
       "168   4.41      41.5   23.0  ...   97th pick     3.063563    35.547252   \n",
       "2003  4.38      42.0   33.0  ...    6th pick    64.232300    66.092093   \n",
       "4432  4.54      43.0   27.0  ...   62nd pick     3.063563    41.037850   \n",
       "\n",
       "      40yd_%ile Vertical_%ile Bench_%ile  Broad Jump_%ile  3Cone_%ile  \\\n",
       "4778  93.877685     96.831977  95.501993        97.899493   89.591754   \n",
       "7348  97.164746     99.734043  80.176504        99.635384   91.956346   \n",
       "168   93.877685     98.576345  64.537863        97.154407   90.268795   \n",
       "2003  96.444474     99.131727  96.498387        93.746037   72.402991   \n",
       "4432  73.801729     99.601064  84.190548        87.666455   96.796686   \n",
       "\n",
       "      Shuttle_%ile  Average_of_6  \n",
       "4778     86.963794     93.444449  \n",
       "7348     85.615899     92.380487  \n",
       "168      98.720976     90.522679  \n",
       "2003     80.293192     89.752801  \n",
       "4432     95.749705     89.634364  \n",
       "\n",
       "[5 rows x 25 columns]"
      ]
     },
     "execution_count": 33,
     "metadata": {},
     "output_type": "execute_result"
    }
   ],
   "source": [
    "df_best = df.sort_values(df.columns[-1], ascending = False)\n",
    "df_best.head()"
   ]
  },
  {
   "cell_type": "code",
   "execution_count": 36,
   "metadata": {},
   "outputs": [
    {
     "name": "stdout",
     "output_type": "stream",
     "text": [
      "Index(['40yd_%ile', 'Vertical_%ile', 'Bench_%ile', 'Broad Jump_%ile',\n",
      "       '3Cone_%ile', 'Shuttle_%ile'],\n",
      "      dtype='object')\n",
      "[93.87768465165007, 96.8319774718398, 95.50199278800531, 97.89949270767279, 89.59175424413905, 86.9637937819756]\n",
      "4778    Jerick McKinnon\n",
      "Name: Player, dtype: object\n"
     ]
    },
    {
     "data": {
      "application/vnd.plotly.v1+json": {
       "config": {
        "plotlyServerURL": "https://plot.ly"
       },
       "data": [
        {
         "fill": "toself",
         "hovertemplate": "r=%{r}<br>theta=%{theta}<extra></extra>",
         "legendgroup": "",
         "line": {
          "color": "#636efa",
          "dash": "solid"
         },
         "marker": {
          "symbol": "circle"
         },
         "mode": "lines",
         "name": "",
         "r": [
          93.87768465165007,
          96.8319774718398,
          95.50199278800531,
          97.89949270767279,
          89.59175424413905,
          86.9637937819756,
          93.87768465165007
         ],
         "showlegend": false,
         "subplot": "polar",
         "theta": [
          "40yd_%ile",
          "Vertical_%ile",
          "Bench_%ile",
          "Broad Jump_%ile",
          "3Cone_%ile",
          "Shuttle_%ile",
          "40yd_%ile"
         ],
         "type": "scatterpolar"
        }
       ],
       "layout": {
        "legend": {
         "tracegroupgap": 0
        },
        "margin": {
         "t": 60
        },
        "polar": {
         "angularaxis": {
          "direction": "clockwise",
          "rotation": 90
         },
         "domain": {
          "x": [
           0,
           1
          ],
          "y": [
           0,
           1
          ]
         }
        },
        "template": {
         "data": {
          "bar": [
           {
            "error_x": {
             "color": "#2a3f5f"
            },
            "error_y": {
             "color": "#2a3f5f"
            },
            "marker": {
             "line": {
              "color": "#E5ECF6",
              "width": 0.5
             },
             "pattern": {
              "fillmode": "overlay",
              "size": 10,
              "solidity": 0.2
             }
            },
            "type": "bar"
           }
          ],
          "barpolar": [
           {
            "marker": {
             "line": {
              "color": "#E5ECF6",
              "width": 0.5
             },
             "pattern": {
              "fillmode": "overlay",
              "size": 10,
              "solidity": 0.2
             }
            },
            "type": "barpolar"
           }
          ],
          "carpet": [
           {
            "aaxis": {
             "endlinecolor": "#2a3f5f",
             "gridcolor": "white",
             "linecolor": "white",
             "minorgridcolor": "white",
             "startlinecolor": "#2a3f5f"
            },
            "baxis": {
             "endlinecolor": "#2a3f5f",
             "gridcolor": "white",
             "linecolor": "white",
             "minorgridcolor": "white",
             "startlinecolor": "#2a3f5f"
            },
            "type": "carpet"
           }
          ],
          "choropleth": [
           {
            "colorbar": {
             "outlinewidth": 0,
             "ticks": ""
            },
            "type": "choropleth"
           }
          ],
          "contour": [
           {
            "colorbar": {
             "outlinewidth": 0,
             "ticks": ""
            },
            "colorscale": [
             [
              0,
              "#0d0887"
             ],
             [
              0.1111111111111111,
              "#46039f"
             ],
             [
              0.2222222222222222,
              "#7201a8"
             ],
             [
              0.3333333333333333,
              "#9c179e"
             ],
             [
              0.4444444444444444,
              "#bd3786"
             ],
             [
              0.5555555555555556,
              "#d8576b"
             ],
             [
              0.6666666666666666,
              "#ed7953"
             ],
             [
              0.7777777777777778,
              "#fb9f3a"
             ],
             [
              0.8888888888888888,
              "#fdca26"
             ],
             [
              1,
              "#f0f921"
             ]
            ],
            "type": "contour"
           }
          ],
          "contourcarpet": [
           {
            "colorbar": {
             "outlinewidth": 0,
             "ticks": ""
            },
            "type": "contourcarpet"
           }
          ],
          "heatmap": [
           {
            "colorbar": {
             "outlinewidth": 0,
             "ticks": ""
            },
            "colorscale": [
             [
              0,
              "#0d0887"
             ],
             [
              0.1111111111111111,
              "#46039f"
             ],
             [
              0.2222222222222222,
              "#7201a8"
             ],
             [
              0.3333333333333333,
              "#9c179e"
             ],
             [
              0.4444444444444444,
              "#bd3786"
             ],
             [
              0.5555555555555556,
              "#d8576b"
             ],
             [
              0.6666666666666666,
              "#ed7953"
             ],
             [
              0.7777777777777778,
              "#fb9f3a"
             ],
             [
              0.8888888888888888,
              "#fdca26"
             ],
             [
              1,
              "#f0f921"
             ]
            ],
            "type": "heatmap"
           }
          ],
          "heatmapgl": [
           {
            "colorbar": {
             "outlinewidth": 0,
             "ticks": ""
            },
            "colorscale": [
             [
              0,
              "#0d0887"
             ],
             [
              0.1111111111111111,
              "#46039f"
             ],
             [
              0.2222222222222222,
              "#7201a8"
             ],
             [
              0.3333333333333333,
              "#9c179e"
             ],
             [
              0.4444444444444444,
              "#bd3786"
             ],
             [
              0.5555555555555556,
              "#d8576b"
             ],
             [
              0.6666666666666666,
              "#ed7953"
             ],
             [
              0.7777777777777778,
              "#fb9f3a"
             ],
             [
              0.8888888888888888,
              "#fdca26"
             ],
             [
              1,
              "#f0f921"
             ]
            ],
            "type": "heatmapgl"
           }
          ],
          "histogram": [
           {
            "marker": {
             "pattern": {
              "fillmode": "overlay",
              "size": 10,
              "solidity": 0.2
             }
            },
            "type": "histogram"
           }
          ],
          "histogram2d": [
           {
            "colorbar": {
             "outlinewidth": 0,
             "ticks": ""
            },
            "colorscale": [
             [
              0,
              "#0d0887"
             ],
             [
              0.1111111111111111,
              "#46039f"
             ],
             [
              0.2222222222222222,
              "#7201a8"
             ],
             [
              0.3333333333333333,
              "#9c179e"
             ],
             [
              0.4444444444444444,
              "#bd3786"
             ],
             [
              0.5555555555555556,
              "#d8576b"
             ],
             [
              0.6666666666666666,
              "#ed7953"
             ],
             [
              0.7777777777777778,
              "#fb9f3a"
             ],
             [
              0.8888888888888888,
              "#fdca26"
             ],
             [
              1,
              "#f0f921"
             ]
            ],
            "type": "histogram2d"
           }
          ],
          "histogram2dcontour": [
           {
            "colorbar": {
             "outlinewidth": 0,
             "ticks": ""
            },
            "colorscale": [
             [
              0,
              "#0d0887"
             ],
             [
              0.1111111111111111,
              "#46039f"
             ],
             [
              0.2222222222222222,
              "#7201a8"
             ],
             [
              0.3333333333333333,
              "#9c179e"
             ],
             [
              0.4444444444444444,
              "#bd3786"
             ],
             [
              0.5555555555555556,
              "#d8576b"
             ],
             [
              0.6666666666666666,
              "#ed7953"
             ],
             [
              0.7777777777777778,
              "#fb9f3a"
             ],
             [
              0.8888888888888888,
              "#fdca26"
             ],
             [
              1,
              "#f0f921"
             ]
            ],
            "type": "histogram2dcontour"
           }
          ],
          "mesh3d": [
           {
            "colorbar": {
             "outlinewidth": 0,
             "ticks": ""
            },
            "type": "mesh3d"
           }
          ],
          "parcoords": [
           {
            "line": {
             "colorbar": {
              "outlinewidth": 0,
              "ticks": ""
             }
            },
            "type": "parcoords"
           }
          ],
          "pie": [
           {
            "automargin": true,
            "type": "pie"
           }
          ],
          "scatter": [
           {
            "fillpattern": {
             "fillmode": "overlay",
             "size": 10,
             "solidity": 0.2
            },
            "type": "scatter"
           }
          ],
          "scatter3d": [
           {
            "line": {
             "colorbar": {
              "outlinewidth": 0,
              "ticks": ""
             }
            },
            "marker": {
             "colorbar": {
              "outlinewidth": 0,
              "ticks": ""
             }
            },
            "type": "scatter3d"
           }
          ],
          "scattercarpet": [
           {
            "marker": {
             "colorbar": {
              "outlinewidth": 0,
              "ticks": ""
             }
            },
            "type": "scattercarpet"
           }
          ],
          "scattergeo": [
           {
            "marker": {
             "colorbar": {
              "outlinewidth": 0,
              "ticks": ""
             }
            },
            "type": "scattergeo"
           }
          ],
          "scattergl": [
           {
            "marker": {
             "colorbar": {
              "outlinewidth": 0,
              "ticks": ""
             }
            },
            "type": "scattergl"
           }
          ],
          "scattermapbox": [
           {
            "marker": {
             "colorbar": {
              "outlinewidth": 0,
              "ticks": ""
             }
            },
            "type": "scattermapbox"
           }
          ],
          "scatterpolar": [
           {
            "marker": {
             "colorbar": {
              "outlinewidth": 0,
              "ticks": ""
             }
            },
            "type": "scatterpolar"
           }
          ],
          "scatterpolargl": [
           {
            "marker": {
             "colorbar": {
              "outlinewidth": 0,
              "ticks": ""
             }
            },
            "type": "scatterpolargl"
           }
          ],
          "scatterternary": [
           {
            "marker": {
             "colorbar": {
              "outlinewidth": 0,
              "ticks": ""
             }
            },
            "type": "scatterternary"
           }
          ],
          "surface": [
           {
            "colorbar": {
             "outlinewidth": 0,
             "ticks": ""
            },
            "colorscale": [
             [
              0,
              "#0d0887"
             ],
             [
              0.1111111111111111,
              "#46039f"
             ],
             [
              0.2222222222222222,
              "#7201a8"
             ],
             [
              0.3333333333333333,
              "#9c179e"
             ],
             [
              0.4444444444444444,
              "#bd3786"
             ],
             [
              0.5555555555555556,
              "#d8576b"
             ],
             [
              0.6666666666666666,
              "#ed7953"
             ],
             [
              0.7777777777777778,
              "#fb9f3a"
             ],
             [
              0.8888888888888888,
              "#fdca26"
             ],
             [
              1,
              "#f0f921"
             ]
            ],
            "type": "surface"
           }
          ],
          "table": [
           {
            "cells": {
             "fill": {
              "color": "#EBF0F8"
             },
             "line": {
              "color": "white"
             }
            },
            "header": {
             "fill": {
              "color": "#C8D4E3"
             },
             "line": {
              "color": "white"
             }
            },
            "type": "table"
           }
          ]
         },
         "layout": {
          "annotationdefaults": {
           "arrowcolor": "#2a3f5f",
           "arrowhead": 0,
           "arrowwidth": 1
          },
          "autotypenumbers": "strict",
          "coloraxis": {
           "colorbar": {
            "outlinewidth": 0,
            "ticks": ""
           }
          },
          "colorscale": {
           "diverging": [
            [
             0,
             "#8e0152"
            ],
            [
             0.1,
             "#c51b7d"
            ],
            [
             0.2,
             "#de77ae"
            ],
            [
             0.3,
             "#f1b6da"
            ],
            [
             0.4,
             "#fde0ef"
            ],
            [
             0.5,
             "#f7f7f7"
            ],
            [
             0.6,
             "#e6f5d0"
            ],
            [
             0.7,
             "#b8e186"
            ],
            [
             0.8,
             "#7fbc41"
            ],
            [
             0.9,
             "#4d9221"
            ],
            [
             1,
             "#276419"
            ]
           ],
           "sequential": [
            [
             0,
             "#0d0887"
            ],
            [
             0.1111111111111111,
             "#46039f"
            ],
            [
             0.2222222222222222,
             "#7201a8"
            ],
            [
             0.3333333333333333,
             "#9c179e"
            ],
            [
             0.4444444444444444,
             "#bd3786"
            ],
            [
             0.5555555555555556,
             "#d8576b"
            ],
            [
             0.6666666666666666,
             "#ed7953"
            ],
            [
             0.7777777777777778,
             "#fb9f3a"
            ],
            [
             0.8888888888888888,
             "#fdca26"
            ],
            [
             1,
             "#f0f921"
            ]
           ],
           "sequentialminus": [
            [
             0,
             "#0d0887"
            ],
            [
             0.1111111111111111,
             "#46039f"
            ],
            [
             0.2222222222222222,
             "#7201a8"
            ],
            [
             0.3333333333333333,
             "#9c179e"
            ],
            [
             0.4444444444444444,
             "#bd3786"
            ],
            [
             0.5555555555555556,
             "#d8576b"
            ],
            [
             0.6666666666666666,
             "#ed7953"
            ],
            [
             0.7777777777777778,
             "#fb9f3a"
            ],
            [
             0.8888888888888888,
             "#fdca26"
            ],
            [
             1,
             "#f0f921"
            ]
           ]
          },
          "colorway": [
           "#636efa",
           "#EF553B",
           "#00cc96",
           "#ab63fa",
           "#FFA15A",
           "#19d3f3",
           "#FF6692",
           "#B6E880",
           "#FF97FF",
           "#FECB52"
          ],
          "font": {
           "color": "#2a3f5f"
          },
          "geo": {
           "bgcolor": "white",
           "lakecolor": "white",
           "landcolor": "#E5ECF6",
           "showlakes": true,
           "showland": true,
           "subunitcolor": "white"
          },
          "hoverlabel": {
           "align": "left"
          },
          "hovermode": "closest",
          "mapbox": {
           "style": "light"
          },
          "paper_bgcolor": "white",
          "plot_bgcolor": "#E5ECF6",
          "polar": {
           "angularaxis": {
            "gridcolor": "white",
            "linecolor": "white",
            "ticks": ""
           },
           "bgcolor": "#E5ECF6",
           "radialaxis": {
            "gridcolor": "white",
            "linecolor": "white",
            "ticks": ""
           }
          },
          "scene": {
           "xaxis": {
            "backgroundcolor": "#E5ECF6",
            "gridcolor": "white",
            "gridwidth": 2,
            "linecolor": "white",
            "showbackground": true,
            "ticks": "",
            "zerolinecolor": "white"
           },
           "yaxis": {
            "backgroundcolor": "#E5ECF6",
            "gridcolor": "white",
            "gridwidth": 2,
            "linecolor": "white",
            "showbackground": true,
            "ticks": "",
            "zerolinecolor": "white"
           },
           "zaxis": {
            "backgroundcolor": "#E5ECF6",
            "gridcolor": "white",
            "gridwidth": 2,
            "linecolor": "white",
            "showbackground": true,
            "ticks": "",
            "zerolinecolor": "white"
           }
          },
          "shapedefaults": {
           "line": {
            "color": "#2a3f5f"
           }
          },
          "ternary": {
           "aaxis": {
            "gridcolor": "white",
            "linecolor": "white",
            "ticks": ""
           },
           "baxis": {
            "gridcolor": "white",
            "linecolor": "white",
            "ticks": ""
           },
           "bgcolor": "#E5ECF6",
           "caxis": {
            "gridcolor": "white",
            "linecolor": "white",
            "ticks": ""
           }
          },
          "title": {
           "x": 0.05
          },
          "xaxis": {
           "automargin": true,
           "gridcolor": "white",
           "linecolor": "white",
           "ticks": "",
           "title": {
            "standoff": 15
           },
           "zerolinecolor": "white",
           "zerolinewidth": 2
          },
          "yaxis": {
           "automargin": true,
           "gridcolor": "white",
           "linecolor": "white",
           "ticks": "",
           "title": {
            "standoff": 15
           },
           "zerolinecolor": "white",
           "zerolinewidth": 2
          }
         }
        }
       }
      }
     },
     "metadata": {},
     "output_type": "display_data"
    }
   ],
   "source": [
    "import plotly.express as px\n",
    "df_radar = df_best.head(1)\n",
    "df_radar\n",
    "radar_cols = df_radar.columns[18:24]\n",
    "radar_vals = df_radar[radar_cols].values.tolist()\n",
    "radar_vals = radar_vals[0]\n",
    "\n",
    "print(radar_cols)\n",
    "print(radar_vals)\n",
    "print(df_radar['Player'])\n",
    "fig = px.line_polar(df_radar,r = radar_vals,theta= radar_cols, line_close=True)\n",
    "fig.update_traces(fill='toself')\n",
    "fig.show()"
   ]
  }
 ],
 "metadata": {
  "kernelspec": {
   "display_name": "version1",
   "language": "python",
   "name": "python3"
  },
  "language_info": {
   "codemirror_mode": {
    "name": "ipython",
    "version": 3
   },
   "file_extension": ".py",
   "mimetype": "text/x-python",
   "name": "python",
   "nbconvert_exporter": "python",
   "pygments_lexer": "ipython3",
   "version": "3.11.5"
  }
 },
 "nbformat": 4,
 "nbformat_minor": 2
}
